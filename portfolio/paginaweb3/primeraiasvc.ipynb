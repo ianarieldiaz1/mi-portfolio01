{
 "cells": [
  {
   "cell_type": "code",
   "execution_count": 1,
   "metadata": {},
   "outputs": [],
   "source": [
    "import pandas as pd\n",
    "import numpy as np\n",
    "from time import time\n",
    "from sklearn.model_selection import train_test_split\n",
    "from sklearn.svm import SVC\n",
    "from sklearn.metrics import accuracy_score, confusion_matrix\n",
    "import matplotlib.pyplot as plt"
   ]
  },
  {
   "cell_type": "code",
   "execution_count": 2,
   "metadata": {},
   "outputs": [
    {
     "name": "stdout",
     "output_type": "stream",
     "text": [
      "<class 'pandas.core.frame.DataFrame'>\n",
      "RangeIndex: 200 entries, 0 to 199\n",
      "Data columns (total 22 columns):\n",
      " #   Column                                        Non-Null Count  Dtype\n",
      "---  ------                                        --------------  -----\n",
      " 0   1                                             200 non-null    int64\n",
      " 1   1.1                                           200 non-null    int64\n",
      " 2   Peso                                          200 non-null    int64\n",
      " 3   Difultad para caminar o subir las escaleras   200 non-null    int64\n",
      " 4   Tabaquismo                                    200 non-null    int64\n",
      " 5   Actividad Fisica                              200 non-null    int64\n",
      " 6   Diabetes                                      200 non-null    int64\n",
      " 7   Lesiones fisicas o enfermedades fisicas       200 non-null    int64\n",
      " 8   Fruta                                         200 non-null    int64\n",
      " 9   Vegetales                                     200 non-null    int64\n",
      " 10  Alcohol                                       200 non-null    int64\n",
      " 11  Obra Social                                   200 non-null    int64\n",
      " 12  Estado de salud en general                    200 non-null    int64\n",
      " 13  Estrés                                        200 non-null    int64\n",
      " 14  Derrame cerebral o estuvo cerca               200 non-null    int64\n",
      " 15  Hipertencion Arterial                         200 non-null    int64\n",
      " 16  Colesterol Alto                               200 non-null    int64\n",
      " 17  Se controla el colesterol cada año            200 non-null    int64\n",
      " 18  Antecedentes de enfermedades cardiacas        200 non-null    int64\n",
      " 19  Difucultad para respirar                      200 non-null    int64\n",
      " 20  Te haces estudios de corazon con frecuencia   200 non-null    int64\n",
      " 21  Ataque al corazon o otra enfermedad cardiaca  200 non-null    int64\n",
      "dtypes: int64(22)\n",
      "memory usage: 34.5 KB\n"
     ]
    }
   ],
   "source": [
    "data_df = pd.read_csv(\"cardiologico.csv\", header=0, encoding= \"latin-1\")\n",
    "data_df.info()"
   ]
  },
  {
   "cell_type": "code",
   "execution_count": 3,
   "metadata": {},
   "outputs": [
    {
     "data": {
      "text/plain": [
       "0    146\n",
       "1     54\n",
       "Name: Ataque al corazon o otra enfermedad cardiaca, dtype: int64"
      ]
     },
     "execution_count": 3,
     "metadata": {},
     "output_type": "execute_result"
    }
   ],
   "source": [
    "data_df['Ataque al corazon o otra enfermedad cardiaca'].value_counts()"
   ]
  },
  {
   "cell_type": "code",
   "execution_count": 4,
   "metadata": {},
   "outputs": [
    {
     "data": {
      "text/html": [
       "<div>\n",
       "<style scoped>\n",
       "    .dataframe tbody tr th:only-of-type {\n",
       "        vertical-align: middle;\n",
       "    }\n",
       "\n",
       "    .dataframe tbody tr th {\n",
       "        vertical-align: top;\n",
       "    }\n",
       "\n",
       "    .dataframe thead th {\n",
       "        text-align: right;\n",
       "    }\n",
       "</style>\n",
       "<table border=\"1\" class=\"dataframe\">\n",
       "  <thead>\n",
       "    <tr style=\"text-align: right;\">\n",
       "      <th></th>\n",
       "      <th>1</th>\n",
       "      <th>1.1</th>\n",
       "      <th>Peso</th>\n",
       "      <th>Difultad para caminar o subir las escaleras</th>\n",
       "      <th>Tabaquismo</th>\n",
       "      <th>Actividad Fisica</th>\n",
       "      <th>Diabetes</th>\n",
       "      <th>Lesiones fisicas o enfermedades fisicas</th>\n",
       "      <th>Fruta</th>\n",
       "      <th>Vegetales</th>\n",
       "      <th>...</th>\n",
       "      <th>Obra Social</th>\n",
       "      <th>Estado de salud en general</th>\n",
       "      <th>Estrés</th>\n",
       "      <th>Derrame cerebral o estuvo cerca</th>\n",
       "      <th>Hipertencion Arterial</th>\n",
       "      <th>Colesterol Alto</th>\n",
       "      <th>Se controla el colesterol cada año</th>\n",
       "      <th>Antecedentes de enfermedades cardiacas</th>\n",
       "      <th>Difucultad para respirar</th>\n",
       "      <th>Te haces estudios de corazon con frecuencia</th>\n",
       "    </tr>\n",
       "  </thead>\n",
       "  <tbody>\n",
       "    <tr>\n",
       "      <th>0</th>\n",
       "      <td>1</td>\n",
       "      <td>19</td>\n",
       "      <td>67</td>\n",
       "      <td>0</td>\n",
       "      <td>0</td>\n",
       "      <td>1</td>\n",
       "      <td>0</td>\n",
       "      <td>0</td>\n",
       "      <td>1</td>\n",
       "      <td>1</td>\n",
       "      <td>...</td>\n",
       "      <td>1</td>\n",
       "      <td>1</td>\n",
       "      <td>0</td>\n",
       "      <td>0</td>\n",
       "      <td>0</td>\n",
       "      <td>0</td>\n",
       "      <td>1</td>\n",
       "      <td>0</td>\n",
       "      <td>0</td>\n",
       "      <td>1</td>\n",
       "    </tr>\n",
       "    <tr>\n",
       "      <th>1</th>\n",
       "      <td>0</td>\n",
       "      <td>49</td>\n",
       "      <td>70</td>\n",
       "      <td>1</td>\n",
       "      <td>0</td>\n",
       "      <td>0</td>\n",
       "      <td>0</td>\n",
       "      <td>0</td>\n",
       "      <td>1</td>\n",
       "      <td>1</td>\n",
       "      <td>...</td>\n",
       "      <td>1</td>\n",
       "      <td>0</td>\n",
       "      <td>1</td>\n",
       "      <td>0</td>\n",
       "      <td>1</td>\n",
       "      <td>1</td>\n",
       "      <td>1</td>\n",
       "      <td>0</td>\n",
       "      <td>0</td>\n",
       "      <td>1</td>\n",
       "    </tr>\n",
       "    <tr>\n",
       "      <th>2</th>\n",
       "      <td>1</td>\n",
       "      <td>49</td>\n",
       "      <td>80</td>\n",
       "      <td>0</td>\n",
       "      <td>1</td>\n",
       "      <td>1</td>\n",
       "      <td>0</td>\n",
       "      <td>1</td>\n",
       "      <td>1</td>\n",
       "      <td>1</td>\n",
       "      <td>...</td>\n",
       "      <td>1</td>\n",
       "      <td>1</td>\n",
       "      <td>0</td>\n",
       "      <td>0</td>\n",
       "      <td>0</td>\n",
       "      <td>0</td>\n",
       "      <td>0</td>\n",
       "      <td>0</td>\n",
       "      <td>0</td>\n",
       "      <td>0</td>\n",
       "    </tr>\n",
       "    <tr>\n",
       "      <th>3</th>\n",
       "      <td>0</td>\n",
       "      <td>25</td>\n",
       "      <td>56</td>\n",
       "      <td>0</td>\n",
       "      <td>0</td>\n",
       "      <td>0</td>\n",
       "      <td>0</td>\n",
       "      <td>0</td>\n",
       "      <td>0</td>\n",
       "      <td>1</td>\n",
       "      <td>...</td>\n",
       "      <td>1</td>\n",
       "      <td>1</td>\n",
       "      <td>1</td>\n",
       "      <td>0</td>\n",
       "      <td>0</td>\n",
       "      <td>0</td>\n",
       "      <td>1</td>\n",
       "      <td>0</td>\n",
       "      <td>1</td>\n",
       "      <td>1</td>\n",
       "    </tr>\n",
       "    <tr>\n",
       "      <th>4</th>\n",
       "      <td>1</td>\n",
       "      <td>21</td>\n",
       "      <td>68</td>\n",
       "      <td>0</td>\n",
       "      <td>0</td>\n",
       "      <td>1</td>\n",
       "      <td>0</td>\n",
       "      <td>0</td>\n",
       "      <td>1</td>\n",
       "      <td>0</td>\n",
       "      <td>...</td>\n",
       "      <td>0</td>\n",
       "      <td>0</td>\n",
       "      <td>1</td>\n",
       "      <td>0</td>\n",
       "      <td>0</td>\n",
       "      <td>0</td>\n",
       "      <td>0</td>\n",
       "      <td>1</td>\n",
       "      <td>0</td>\n",
       "      <td>1</td>\n",
       "    </tr>\n",
       "  </tbody>\n",
       "</table>\n",
       "<p>5 rows × 21 columns</p>\n",
       "</div>"
      ],
      "text/plain": [
       "   1  1.1  Peso  Difultad para caminar o subir las escaleras  Tabaquismo  \\\n",
       "0  1   19    67                                            0           0   \n",
       "1  0   49    70                                            1           0   \n",
       "2  1   49    80                                            0           1   \n",
       "3  0   25    56                                            0           0   \n",
       "4  1   21    68                                            0           0   \n",
       "\n",
       "   Actividad Fisica  Diabetes  Lesiones fisicas o enfermedades fisicas  Fruta  \\\n",
       "0                 1         0                                        0      1   \n",
       "1                 0         0                                        0      1   \n",
       "2                 1         0                                        1      1   \n",
       "3                 0         0                                        0      0   \n",
       "4                 1         0                                        0      1   \n",
       "\n",
       "   Vegetales  ...  Obra Social  Estado de salud en general  Estrés  \\\n",
       "0          1  ...            1                           1       0   \n",
       "1          1  ...            1                           0       1   \n",
       "2          1  ...            1                           1       0   \n",
       "3          1  ...            1                           1       1   \n",
       "4          0  ...            0                           0       1   \n",
       "\n",
       "   Derrame cerebral o estuvo cerca  Hipertencion Arterial  Colesterol Alto  \\\n",
       "0                                0                      0                0   \n",
       "1                                0                      1                1   \n",
       "2                                0                      0                0   \n",
       "3                                0                      0                0   \n",
       "4                                0                      0                0   \n",
       "\n",
       "   Se controla el colesterol cada año  Antecedentes de enfermedades cardiacas  \\\n",
       "0                                   1                                       0   \n",
       "1                                   1                                       0   \n",
       "2                                   0                                       0   \n",
       "3                                   1                                       0   \n",
       "4                                   0                                       1   \n",
       "\n",
       "   Difucultad para respirar  Te haces estudios de corazon con frecuencia  \n",
       "0                         0                                            1  \n",
       "1                         0                                            1  \n",
       "2                         0                                            0  \n",
       "3                         1                                            1  \n",
       "4                         0                                            1  \n",
       "\n",
       "[5 rows x 21 columns]"
      ]
     },
     "execution_count": 4,
     "metadata": {},
     "output_type": "execute_result"
    }
   ],
   "source": [
    "lista_caract = [\n",
    "    '1',\n",
    "    '1.1',\n",
    "    'Peso',\n",
    "    'Difultad para caminar o subir las escaleras',\n",
    "    'Tabaquismo',\n",
    "    'Actividad Fisica',\n",
    "    'Diabetes',\n",
    "    'Lesiones fisicas o enfermedades fisicas',\n",
    "    'Fruta',\n",
    "    'Vegetales',\n",
    "    'Alcohol',\n",
    "    'Obra Social',\n",
    "    'Estado de salud en general',\n",
    "    'Estrés',\n",
    "    'Derrame cerebral o estuvo cerca',\n",
    "    'Hipertencion Arterial',\n",
    "    'Colesterol Alto',\n",
    "    'Se controla el colesterol cada año',\n",
    "    'Antecedentes de enfermedades cardiacas',\n",
    "    'Difucultad para respirar',\n",
    "    'Te haces estudios de corazon con frecuencia'\n",
    "]\n",
    "\n",
    "X = data_df[lista_caract]\n",
    "X.head()"
   ]
  },
  {
   "cell_type": "code",
   "execution_count": 5,
   "metadata": {},
   "outputs": [
    {
     "data": {
      "text/html": [
       "<div>\n",
       "<style scoped>\n",
       "    .dataframe tbody tr th:only-of-type {\n",
       "        vertical-align: middle;\n",
       "    }\n",
       "\n",
       "    .dataframe tbody tr th {\n",
       "        vertical-align: top;\n",
       "    }\n",
       "\n",
       "    .dataframe thead th {\n",
       "        text-align: right;\n",
       "    }\n",
       "</style>\n",
       "<table border=\"1\" class=\"dataframe\">\n",
       "  <thead>\n",
       "    <tr style=\"text-align: right;\">\n",
       "      <th></th>\n",
       "      <th>Ataque al corazon o otra enfermedad cardiaca</th>\n",
       "    </tr>\n",
       "  </thead>\n",
       "  <tbody>\n",
       "    <tr>\n",
       "      <th>0</th>\n",
       "      <td>0</td>\n",
       "    </tr>\n",
       "    <tr>\n",
       "      <th>1</th>\n",
       "      <td>1</td>\n",
       "    </tr>\n",
       "    <tr>\n",
       "      <th>2</th>\n",
       "      <td>0</td>\n",
       "    </tr>\n",
       "    <tr>\n",
       "      <th>3</th>\n",
       "      <td>0</td>\n",
       "    </tr>\n",
       "    <tr>\n",
       "      <th>4</th>\n",
       "      <td>1</td>\n",
       "    </tr>\n",
       "  </tbody>\n",
       "</table>\n",
       "</div>"
      ],
      "text/plain": [
       "   Ataque al corazon o otra enfermedad cardiaca\n",
       "0                                             0\n",
       "1                                             1\n",
       "2                                             0\n",
       "3                                             0\n",
       "4                                             1"
      ]
     },
     "execution_count": 5,
     "metadata": {},
     "output_type": "execute_result"
    }
   ],
   "source": [
    "lista_etiq = ['Ataque al corazon o otra enfermedad cardiaca'] \n",
    "y = data_df[lista_etiq]\n",
    "y.head()"
   ]
  },
  {
   "cell_type": "code",
   "execution_count": 6,
   "metadata": {},
   "outputs": [],
   "source": [
    "X_train, X_test, y_train, y_test = train_test_split(    \n",
    "    X,     \n",
    "    y \n",
    ")"
   ]
  },
  {
   "cell_type": "code",
   "execution_count": 7,
   "metadata": {},
   "outputs": [
    {
     "data": {
      "text/plain": [
       "(150, 21)"
      ]
     },
     "execution_count": 7,
     "metadata": {},
     "output_type": "execute_result"
    }
   ],
   "source": [
    "X_train.shape"
   ]
  },
  {
   "cell_type": "code",
   "execution_count": 8,
   "metadata": {},
   "outputs": [
    {
     "data": {
      "text/plain": [
       "(150, 1)"
      ]
     },
     "execution_count": 8,
     "metadata": {},
     "output_type": "execute_result"
    }
   ],
   "source": [
    "y_train.shape"
   ]
  },
  {
   "cell_type": "code",
   "execution_count": 9,
   "metadata": {},
   "outputs": [
    {
     "data": {
      "text/plain": [
       "(50, 21)"
      ]
     },
     "execution_count": 9,
     "metadata": {},
     "output_type": "execute_result"
    }
   ],
   "source": [
    "X_test.shape"
   ]
  },
  {
   "cell_type": "code",
   "execution_count": 10,
   "metadata": {},
   "outputs": [
    {
     "data": {
      "text/plain": [
       "(50, 1)"
      ]
     },
     "execution_count": 10,
     "metadata": {},
     "output_type": "execute_result"
    }
   ],
   "source": [
    "y_test.shape"
   ]
  },
  {
   "cell_type": "code",
   "execution_count": 11,
   "metadata": {},
   "outputs": [],
   "source": [
    "clf = SVC(kernel='linear')"
   ]
  },
  {
   "cell_type": "code",
   "execution_count": 12,
   "metadata": {},
   "outputs": [
    {
     "name": "stdout",
     "output_type": "stream",
     "text": [
      "Entrenamiento terminado en 0.032002925872802734 segundos\n"
     ]
    }
   ],
   "source": [
    "hora_inicio = time()\n",
    "clf.fit(X_train.values, y_train.values.ravel())\n",
    "print(\"Entrenamiento terminado en {} segundos\".format(time() - hora_inicio))"
   ]
  },
  {
   "cell_type": "code",
   "execution_count": 13,
   "metadata": {},
   "outputs": [
    {
     "name": "stdout",
     "output_type": "stream",
     "text": [
      "Predicción terminada en 0.003998756408691406 segundos\n"
     ]
    },
    {
     "name": "stderr",
     "output_type": "stream",
     "text": [
      "c:\\Users\\WINDOWS\\AppData\\Local\\Programs\\Python\\Python310\\lib\\site-packages\\sklearn\\base.py:402: UserWarning: X has feature names, but SVC was fitted without feature names\n",
      "  warnings.warn(\n"
     ]
    }
   ],
   "source": [
    "hora_inicio = time()\n",
    "y_pred = clf.predict(X_test)\n",
    "print(\"Predicción terminada en {} segundos\".format(time() - hora_inicio))"
   ]
  },
  {
   "cell_type": "code",
   "execution_count": 14,
   "metadata": {},
   "outputs": [
    {
     "data": {
      "text/plain": [
       "0.74"
      ]
     },
     "execution_count": 14,
     "metadata": {},
     "output_type": "execute_result"
    }
   ],
   "source": [
    "accuracy_score(y_test, y_pred)"
   ]
  },
  {
   "cell_type": "code",
   "execution_count": 15,
   "metadata": {},
   "outputs": [
    {
     "data": {
      "text/plain": [
       "array([[28,  7],\n",
       "       [ 6,  9]], dtype=int64)"
      ]
     },
     "execution_count": 15,
     "metadata": {},
     "output_type": "execute_result"
    }
   ],
   "source": [
    "conf_data = confusion_matrix(y_test, y_pred)\n",
    "conf_data"
   ]
  },
  {
   "cell_type": "code",
   "execution_count": 16,
   "metadata": {},
   "outputs": [],
   "source": [
    "def plot_cm(cm, classes):     \n",
    "    plt.imshow(cm, cmap=plt.cm.Blues)     \n",
    "    plt.title('Matriz de confusión')     \n",
    "    plt.colorbar()     \n",
    "    tick_marks = np.arange(len(classes))     \n",
    "    plt.xticks(tick_marks, classes, rotation=45)     \n",
    "    plt.yticks(tick_marks, classes)     \n",
    "    thresh = cm.max() / 1.     \n",
    "    for indice_fila, fila in enumerate(cm):        \n",
    "        for indice_columna, columna in enumerate(fila):             \n",
    "            if cm[indice_fila, indice_columna] > thresh:                 \n",
    "                color = \"white\"          \n",
    "            else:                \n",
    "                color = \"black\"            \n",
    "                plt.text(                 \n",
    "                         indice_columna,                \n",
    "                         indice_fila,                 \n",
    "                         cm[indice_fila, indice_columna],                \n",
    "                         color=color,                 \n",
    "                         horizontalalignment=\"center\"             \n",
    "                         )     \n",
    "    plt.ylabel(\"Valores reales\")     \n",
    "    plt.xlabel(\"Valores calculados\")     \n",
    "    plt.show()"
   ]
  },
  {
   "cell_type": "code",
   "execution_count": 17,
   "metadata": {},
   "outputs": [
    {
     "data": {
      "image/png": "[encoded data removed]",
      "text/plain": [
       "<Figure size 640x480 with 2 Axes>"
      ]
     },
     "metadata": {},
     "output_type": "display_data"
    }
   ],
   "source": [
    "plot_cm(conf_data, ['No cardio', 'Sí cardio'])"
   ]
  }
 ],
 "metadata": {
  "kernelspec": {
   "display_name": "Python 3",
   "language": "python",
   "name": "python3"
  },
  "language_info": {
   "codemirror_mode": {
    "name": "ipython",
    "version": 3
   },
   "file_extension": ".py",
   "mimetype": "text/x-python",
   "name": "python",
   "nbconvert_exporter": "python",
   "pygments_lexer": "ipython3",
   "version": "3.10.5"
  },
  "orig_nbformat": 4,
  "vscode": {
   "interpreter": {
    "hash": "6ab117dc72ce47c67ab66370869bf6990376954b483afc3fcd6da587bd0c56af"
   }
  }
 },
 "nbformat": 4,
 "nbformat_minor": 2
}
